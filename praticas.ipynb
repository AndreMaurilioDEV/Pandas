{
 "cells": [
  {
   "cell_type": "markdown",
   "metadata": {},
   "source": [
    "# Aula 2 - Data Science"
   ]
  },
  {
   "cell_type": "code",
   "execution_count": 14,
   "metadata": {},
   "outputs": [],
   "source": [
    "url = \"https://drive.google.com/uc?id=1Jgto7psHaMRTAVzcFt7D6SgJiHMB7uGT\"\n",
    "url_estudantes = \"https://drive.google.com/uc?id=15aOJIGAyLMSY1gecjiCgu2ko_riIcKQy\"\n"
   ]
  },
  {
   "cell_type": "code",
   "execution_count": 4,
   "metadata": {},
   "outputs": [],
   "source": [
    "\n",
    "import pandas as pd"
   ]
  },
  {
   "cell_type": "code",
   "execution_count": 7,
   "metadata": {},
   "outputs": [],
   "source": [
    "df = pd.read_csv(url)\n"
   ]
  },
  {
   "cell_type": "code",
   "execution_count": 104,
   "metadata": {},
   "outputs": [
    {
     "data": {
      "text/plain": [
       "24649428"
      ]
     },
     "execution_count": 104,
     "metadata": {},
     "output_type": "execute_result"
    }
   ],
   "source": [
    "sum(df['Orcamento_Anual'])"
   ]
  },
  {
   "cell_type": "code",
   "execution_count": null,
   "metadata": {},
   "outputs": [],
   "source": []
  },
  {
   "cell_type": "code",
   "execution_count": 23,
   "metadata": {},
   "outputs": [],
   "source": [
    "df.insert(len(df.columns), 'Gasto_Per_Capita', df['Orcamento_Anual'] / df['Numero_Alunos'])"
   ]
  },
  {
   "cell_type": "code",
   "execution_count": 103,
   "metadata": {},
   "outputs": [
    {
     "data": {
      "text/html": [
       "<div>\n",
       "<style scoped>\n",
       "    .dataframe tbody tr th:only-of-type {\n",
       "        vertical-align: middle;\n",
       "    }\n",
       "\n",
       "    .dataframe tbody tr th {\n",
       "        vertical-align: top;\n",
       "    }\n",
       "\n",
       "    .dataframe thead th {\n",
       "        text-align: right;\n",
       "    }\n",
       "</style>\n",
       "<table border=\"1\" class=\"dataframe\">\n",
       "  <thead>\n",
       "    <tr style=\"text-align: right;\">\n",
       "      <th></th>\n",
       "      <th>ID_Escola</th>\n",
       "      <th>Nome_Escola</th>\n",
       "      <th>Tipo_Escola</th>\n",
       "      <th>Numero_Alunos</th>\n",
       "      <th>Orcamento_Anual</th>\n",
       "      <th>Gasto_Per_Capita</th>\n",
       "    </tr>\n",
       "  </thead>\n",
       "  <tbody>\n",
       "    <tr>\n",
       "      <th>0</th>\n",
       "      <td>0</td>\n",
       "      <td>Escola A</td>\n",
       "      <td>Publica</td>\n",
       "      <td>2917</td>\n",
       "      <td>1910635</td>\n",
       "      <td>655.0</td>\n",
       "    </tr>\n",
       "    <tr>\n",
       "      <th>1</th>\n",
       "      <td>1</td>\n",
       "      <td>Escola B</td>\n",
       "      <td>Publica</td>\n",
       "      <td>2949</td>\n",
       "      <td>1884411</td>\n",
       "      <td>639.0</td>\n",
       "    </tr>\n",
       "    <tr>\n",
       "      <th>2</th>\n",
       "      <td>2</td>\n",
       "      <td>Escola C</td>\n",
       "      <td>Particular</td>\n",
       "      <td>1761</td>\n",
       "      <td>1056600</td>\n",
       "      <td>600.0</td>\n",
       "    </tr>\n",
       "    <tr>\n",
       "      <th>3</th>\n",
       "      <td>3</td>\n",
       "      <td>Escola D</td>\n",
       "      <td>Publica</td>\n",
       "      <td>4635</td>\n",
       "      <td>3022020</td>\n",
       "      <td>652.0</td>\n",
       "    </tr>\n",
       "    <tr>\n",
       "      <th>4</th>\n",
       "      <td>4</td>\n",
       "      <td>Escola E</td>\n",
       "      <td>Particular</td>\n",
       "      <td>1468</td>\n",
       "      <td>917500</td>\n",
       "      <td>625.0</td>\n",
       "    </tr>\n",
       "  </tbody>\n",
       "</table>\n",
       "</div>"
      ],
      "text/plain": [
       "   ID_Escola Nome_Escola Tipo_Escola  Numero_Alunos  Orcamento_Anual  \\\n",
       "0          0    Escola A     Publica           2917          1910635   \n",
       "1          1    Escola B     Publica           2949          1884411   \n",
       "2          2    Escola C  Particular           1761          1056600   \n",
       "3          3    Escola D     Publica           4635          3022020   \n",
       "4          4    Escola E  Particular           1468           917500   \n",
       "\n",
       "   Gasto_Per_Capita  \n",
       "0             655.0  \n",
       "1             639.0  \n",
       "2             600.0  \n",
       "3             652.0  \n",
       "4             625.0  "
      ]
     },
     "execution_count": 103,
     "metadata": {},
     "output_type": "execute_result"
    }
   ],
   "source": [
    "df.head()"
   ]
  },
  {
   "cell_type": "code",
   "execution_count": 100,
   "metadata": {},
   "outputs": [
    {
     "name": "stdout",
     "output_type": "stream",
     "text": [
      "Escola A\n"
     ]
    }
   ],
   "source": [
    "id_escola = df['Gasto_Per_Capita'].idxmax()\n",
    "nome_escola = df.loc[id_escola, 'Nome_Escola']\n",
    "print(nome_escola)"
   ]
  },
  {
   "cell_type": "code",
   "execution_count": 109,
   "metadata": {},
   "outputs": [
    {
     "name": "stdout",
     "output_type": "stream",
     "text": [
      "Escola F\n"
     ]
    }
   ],
   "source": [
    "id_escola = df['Gasto_Per_Capita'].idxmin()\n",
    "nome_escola = df.loc[id_escola, 'Nome_Escola']\n",
    "print(nome_escola)"
   ]
  },
  {
   "cell_type": "code",
   "execution_count": 117,
   "metadata": {},
   "outputs": [
    {
     "name": "stdout",
     "output_type": "stream",
     "text": [
      "Tipo_Escola\n",
      "Particular    1524.0\n",
      "Publica       3854.0\n",
      "Name: Numero_Alunos, dtype: float64\n"
     ]
    }
   ],
   "source": [
    "media = df.groupby('Tipo_Escola')['Numero_Alunos'].mean()\n",
    "print(f\"{round(media)}\")"
   ]
  },
  {
   "cell_type": "code",
   "execution_count": 12,
   "metadata": {},
   "outputs": [
    {
     "name": "stdout",
     "output_type": "stream",
     "text": [
      "    ID_Escola Nome_Escola Tipo_Escola  Numero_Alunos  Orcamento_Anual\n",
      "0           0    Escola A     Publica           2917          1910635\n",
      "1           1    Escola B     Publica           2949          1884411\n",
      "11         11    Escola L     Publica           3999          2547363\n",
      "13         13    Escola N     Publica           2739          1763916\n"
     ]
    }
   ],
   "source": [
    "filtro_orcamento = df[(df['Orcamento_Anual'] > 1500000) & (df['Numero_Alunos'] < 4000)]\n",
    "print(filtro_orcamento)"
   ]
  },
  {
   "cell_type": "code",
   "execution_count": 15,
   "metadata": {},
   "outputs": [],
   "source": [
    "df_estudantes = pd.read_csv(url_estudantes)"
   ]
  },
  {
   "cell_type": "code",
   "execution_count": 44,
   "metadata": {},
   "outputs": [
    {
     "data": {
      "text/html": [
       "<div>\n",
       "<style scoped>\n",
       "    .dataframe tbody tr th:only-of-type {\n",
       "        vertical-align: middle;\n",
       "    }\n",
       "\n",
       "    .dataframe tbody tr th {\n",
       "        vertical-align: top;\n",
       "    }\n",
       "\n",
       "    .dataframe thead th {\n",
       "        text-align: right;\n",
       "    }\n",
       "</style>\n",
       "<table border=\"1\" class=\"dataframe\">\n",
       "  <thead>\n",
       "    <tr style=\"text-align: right;\">\n",
       "      <th></th>\n",
       "      <th>ID_Estudante</th>\n",
       "      <th>Nome_Estudante</th>\n",
       "      <th>Genero</th>\n",
       "      <th>Serie</th>\n",
       "      <th>Nome_Escola</th>\n",
       "      <th>Nota_Redacao</th>\n",
       "      <th>Nota_Matematica</th>\n",
       "    </tr>\n",
       "  </thead>\n",
       "  <tbody>\n",
       "    <tr>\n",
       "      <th>0</th>\n",
       "      <td>0</td>\n",
       "      <td>Kevin Bradley</td>\n",
       "      <td>M</td>\n",
       "      <td>6</td>\n",
       "      <td>Escola A</td>\n",
       "      <td>66</td>\n",
       "      <td>79</td>\n",
       "    </tr>\n",
       "    <tr>\n",
       "      <th>1</th>\n",
       "      <td>1</td>\n",
       "      <td>Paul Smith</td>\n",
       "      <td>M</td>\n",
       "      <td>9</td>\n",
       "      <td>Escola A</td>\n",
       "      <td>94</td>\n",
       "      <td>61</td>\n",
       "    </tr>\n",
       "    <tr>\n",
       "      <th>2</th>\n",
       "      <td>2</td>\n",
       "      <td>John Rodriguez</td>\n",
       "      <td>M</td>\n",
       "      <td>9</td>\n",
       "      <td>Escola A</td>\n",
       "      <td>90</td>\n",
       "      <td>60</td>\n",
       "    </tr>\n",
       "    <tr>\n",
       "      <th>3</th>\n",
       "      <td>3</td>\n",
       "      <td>Oliver Scott</td>\n",
       "      <td>M</td>\n",
       "      <td>9</td>\n",
       "      <td>Escola A</td>\n",
       "      <td>67</td>\n",
       "      <td>58</td>\n",
       "    </tr>\n",
       "    <tr>\n",
       "      <th>4</th>\n",
       "      <td>4</td>\n",
       "      <td>William Ray</td>\n",
       "      <td>F</td>\n",
       "      <td>6</td>\n",
       "      <td>Escola A</td>\n",
       "      <td>97</td>\n",
       "      <td>84</td>\n",
       "    </tr>\n",
       "  </tbody>\n",
       "</table>\n",
       "</div>"
      ],
      "text/plain": [
       "   ID_Estudante  Nome_Estudante Genero  Serie Nome_Escola  Nota_Redacao  \\\n",
       "0             0   Kevin Bradley      M      6    Escola A            66   \n",
       "1             1      Paul Smith      M      9    Escola A            94   \n",
       "2             2  John Rodriguez      M      9    Escola A            90   \n",
       "3             3    Oliver Scott      M      9    Escola A            67   \n",
       "4             4     William Ray      F      6    Escola A            97   \n",
       "\n",
       "   Nota_Matematica  \n",
       "0               79  \n",
       "1               61  \n",
       "2               60  \n",
       "3               58  \n",
       "4               84  "
      ]
     },
     "execution_count": 44,
     "metadata": {},
     "output_type": "execute_result"
    }
   ],
   "source": [
    "df_estudantes.head()"
   ]
  },
  {
   "cell_type": "code",
   "execution_count": 26,
   "metadata": {},
   "outputs": [
    {
     "name": "stdout",
     "output_type": "stream",
     "text": [
      "Nome_Escola\n",
      "Escola A    1500\n",
      "Escola B    1498\n",
      "Escola C     875\n",
      "Escola D    2272\n",
      "Escola E     748\n",
      "Escola F    1112\n",
      "Escola G     916\n",
      "Escola H    2439\n",
      "Escola I     207\n",
      "Escola J     455\n",
      "Escola K     912\n",
      "Escola L    1985\n",
      "Escola M    2368\n",
      "Escola N    1363\n",
      "Escola O     782\n",
      "Name: Genero, dtype: int64\n"
     ]
    }
   ],
   "source": [
    "# Quantidade do genero M em cada escola\n",
    "df_estudantes[df_estudantes['Genero'] == 'M'].groupby('Nome_Escola')['Genero'].count()"
   ]
  },
  {
   "cell_type": "code",
   "execution_count": 123,
   "metadata": {},
   "outputs": [
    {
     "name": "stdout",
     "output_type": "stream",
     "text": [
      "Nome_Escola\n",
      "Escola A    1417\n",
      "Escola B    1451\n",
      "Escola C     886\n",
      "Escola D    2363\n",
      "Escola E     720\n",
      "Escola F    1171\n",
      "Escola G     942\n",
      "Escola H    2537\n",
      "Escola I     220\n",
      "Escola J     507\n",
      "Escola K     888\n",
      "Escola L    2014\n",
      "Escola M    2393\n",
      "Escola N    1376\n",
      "Escola O     843\n",
      "Name: Genero, dtype: int64\n"
     ]
    }
   ],
   "source": [
    "# Quantidade do genero F em cada escola\n",
    "df_estudantes[df_estudantes['Genero'] == 'F'].groupby('Nome_Escola')['Genero'].count()\n"
   ]
  },
  {
   "cell_type": "code",
   "execution_count": 40,
   "metadata": {},
   "outputs": [
    {
     "data": {
      "text/plain": [
       "Nome_Escola\n",
       "Escola A    81.450953\n",
       "Escola B    81.181254\n",
       "Escola C    83.404063\n",
       "Escola D    81.059247\n",
       "Escola E    83.816667\n",
       "Escola F    83.867635\n",
       "Escola G    83.992569\n",
       "Escola H    81.459204\n",
       "Escola I    83.686364\n",
       "Escola J    83.676529\n",
       "Escola K    84.041667\n",
       "Escola L    80.825720\n",
       "Escola M    81.326369\n",
       "Escola N    80.727471\n",
       "Escola O    83.803084\n",
       "Name: Nota_Redacao, dtype: float64"
      ]
     },
     "execution_count": 40,
     "metadata": {},
     "output_type": "execute_result"
    }
   ],
   "source": [
    "# Médias das notas de redação do genero F por escola\n",
    "df_estudantes[df_estudantes['Genero'] == 'F'].groupby('Nome_Escola')['Nota_Redacao'].mean()"
   ]
  },
  {
   "cell_type": "code",
   "execution_count": 141,
   "metadata": {},
   "outputs": [
    {
     "data": {
      "text/plain": [
       "Nome_Escola\n",
       "Escola A    80.929333\n",
       "Escola B    81.135514\n",
       "Escola C    84.051429\n",
       "Escola D    80.804577\n",
       "Escola E    83.816845\n",
       "Escola F    84.117806\n",
       "Escola G    83.958515\n",
       "Escola H    80.591636\n",
       "Escola I    83.951691\n",
       "Escola J    84.454945\n",
       "Escola K    83.870614\n",
       "Escola L    80.662469\n",
       "Escola M    80.602618\n",
       "Escola N    80.765224\n",
       "Escola O    83.818414\n",
       "Name: Nota_Redacao, dtype: float64"
      ]
     },
     "execution_count": 141,
     "metadata": {},
     "output_type": "execute_result"
    }
   ],
   "source": [
    "# Médias das notas de redação do genero M por escola\n",
    "df_estudantes[df_estudantes['Genero'] == 'M'].groupby('Nome_Escola')['Nota_Redacao'].mean()"
   ]
  },
  {
   "cell_type": "code",
   "execution_count": 143,
   "metadata": {},
   "outputs": [
    {
     "data": {
      "text/plain": [
       "Nome_Escola\n",
       "Escola A    81.182722\n",
       "Escola B    81.158020\n",
       "Escola C    83.725724\n",
       "Escola D    80.934412\n",
       "Escola E    83.816757\n",
       "Escola F    83.989488\n",
       "Escola G    83.975780\n",
       "Escola H    81.033963\n",
       "Escola I    83.814988\n",
       "Escola J    84.044699\n",
       "Escola K    83.955000\n",
       "Escola L    80.744686\n",
       "Escola M    80.966394\n",
       "Escola N    80.746258\n",
       "Escola O    83.810462\n",
       "Name: Nota_Redacao, dtype: float64"
      ]
     },
     "execution_count": 143,
     "metadata": {},
     "output_type": "execute_result"
    }
   ],
   "source": [
    "# Médias das notas de redação por escola\n",
    "df_estudantes.groupby('Nome_Escola')['Nota_Redacao'].mean()"
   ]
  },
  {
   "cell_type": "code",
   "execution_count": 139,
   "metadata": {},
   "outputs": [],
   "source": [
    "# A menor média das notas de redação\n",
    "menor_media_redacao_Escolas = df_estudantes.groupby('Nome_Escola')['Nota_Redacao'].mean().min()"
   ]
  },
  {
   "cell_type": "code",
   "execution_count": 138,
   "metadata": {},
   "outputs": [
    {
     "name": "stdout",
     "output_type": "stream",
     "text": [
      "Nome_Escola\n",
      "Escola L    80.744686\n",
      "Escola N    80.746258\n",
      "Escola D    80.934412\n",
      "Escola M    80.966394\n",
      "Escola H    81.033963\n",
      "Escola B    81.158020\n",
      "Escola A    81.182722\n",
      "Escola C    83.725724\n",
      "Escola O    83.810462\n",
      "Escola I    83.814988\n",
      "Escola E    83.816757\n",
      "Escola K    83.955000\n",
      "Escola G    83.975780\n",
      "Escola F    83.989488\n",
      "Escola J    84.044699\n",
      "Name: Nota_Redacao, dtype: float64\n"
     ]
    }
   ],
   "source": [
    "# Ordem crescente da média das notas de redação por escola\n",
    "media_redacao_Escolas = df_estudantes.groupby('Nome_Escola')['Nota_Redacao'].mean().sort_values(ascending=True)"
   ]
  },
  {
   "cell_type": "code",
   "execution_count": 71,
   "metadata": {},
   "outputs": [
    {
     "data": {
      "text/plain": [
       "Nome_Escola\n",
       "Escola I     427\n",
       "Escola J     962\n",
       "Escola E    1468\n",
       "Escola O    1625\n",
       "Escola C    1761\n",
       "Escola K    1800\n",
       "Escola G    1858\n",
       "Escola F    2283\n",
       "Escola N    2739\n",
       "Escola A    2917\n",
       "Escola B    2949\n",
       "Escola L    3999\n",
       "Escola D    4635\n",
       "Escola M    4761\n",
       "Escola H    4976\n",
       "Name: count, dtype: int64"
      ]
     },
     "execution_count": 71,
     "metadata": {},
     "output_type": "execute_result"
    }
   ],
   "source": [
    "# Quantidade de estudantes por escola em ordem crescente\n",
    "df_estudantes['Nome_Escola'].value_counts(ascending=True, normalize=False)"
   ]
  },
  {
   "cell_type": "code",
   "execution_count": 67,
   "metadata": {},
   "outputs": [
    {
     "name": "stdout",
     "output_type": "stream",
     "text": [
      "Escola I: 427 alunos\n"
     ]
    }
   ],
   "source": [
    "# Nome da escola e quantidade de alunos na escola com menor quantidade de alunos\n",
    "quantidade_alunos = df_estudantes['Nome_Escola'].value_counts(ascending=True, normalize=False).iloc[0]\n",
    "nome_escola = df_estudantes['Nome_Escola'].value_counts(ascending=True, normalize=False).index[0]\n",
    "print(f\"{nome_escola}: {quantidade_alunos} alunos\")"
   ]
  },
  {
   "cell_type": "code",
   "execution_count": 106,
   "metadata": {},
   "outputs": [
    {
     "name": "stdout",
     "output_type": "stream",
     "text": [
      "Escola H: 4976 alunos\n"
     ]
    }
   ],
   "source": [
    "# Nome da escola e quantidade de alunos na escola com maior quantidade de alunos\n",
    "quantidade_alunos = df_estudantes['Nome_Escola'].value_counts(ascending=False, normalize=False).iloc[0]\n",
    "nome_escola = df_estudantes['Nome_Escola'].value_counts(ascending=False, normalize=False).index[0]\n",
    "print(f\"{nome_escola}: {quantidade_alunos} alunos\")"
   ]
  },
  {
   "cell_type": "code",
   "execution_count": 127,
   "metadata": {},
   "outputs": [
    {
     "data": {
      "text/html": [
       "<div>\n",
       "<style scoped>\n",
       "    .dataframe tbody tr th:only-of-type {\n",
       "        vertical-align: middle;\n",
       "    }\n",
       "\n",
       "    .dataframe tbody tr th {\n",
       "        vertical-align: top;\n",
       "    }\n",
       "\n",
       "    .dataframe thead th {\n",
       "        text-align: right;\n",
       "    }\n",
       "</style>\n",
       "<table border=\"1\" class=\"dataframe\">\n",
       "  <thead>\n",
       "    <tr style=\"text-align: right;\">\n",
       "      <th></th>\n",
       "      <th></th>\n",
       "      <th>Nota_Matematica</th>\n",
       "      <th>Nota_Redacao</th>\n",
       "    </tr>\n",
       "    <tr>\n",
       "      <th>Nome_Escola</th>\n",
       "      <th>Nome_Estudante</th>\n",
       "      <th></th>\n",
       "      <th></th>\n",
       "    </tr>\n",
       "  </thead>\n",
       "  <tbody>\n",
       "    <tr>\n",
       "      <th rowspan=\"5\" valign=\"top\">Escola A</th>\n",
       "      <th>Aaron Booker</th>\n",
       "      <td>64</td>\n",
       "      <td>81</td>\n",
       "    </tr>\n",
       "    <tr>\n",
       "      <th>Aaron Foster</th>\n",
       "      <td>89</td>\n",
       "      <td>82</td>\n",
       "    </tr>\n",
       "    <tr>\n",
       "      <th>Aaron Martinez</th>\n",
       "      <td>72</td>\n",
       "      <td>85</td>\n",
       "    </tr>\n",
       "    <tr>\n",
       "      <th>Aaron Moore</th>\n",
       "      <td>70</td>\n",
       "      <td>85</td>\n",
       "    </tr>\n",
       "    <tr>\n",
       "      <th>Aaron Rodriguez</th>\n",
       "      <td>78</td>\n",
       "      <td>75</td>\n",
       "    </tr>\n",
       "    <tr>\n",
       "      <th>...</th>\n",
       "      <th>...</th>\n",
       "      <td>...</td>\n",
       "      <td>...</td>\n",
       "    </tr>\n",
       "    <tr>\n",
       "      <th rowspan=\"5\" valign=\"top\">Escola O</th>\n",
       "      <th>Yvette Ashley</th>\n",
       "      <td>74</td>\n",
       "      <td>74</td>\n",
       "    </tr>\n",
       "    <tr>\n",
       "      <th>Zachary Christian</th>\n",
       "      <td>74</td>\n",
       "      <td>94</td>\n",
       "    </tr>\n",
       "    <tr>\n",
       "      <th>Zachary Davis</th>\n",
       "      <td>69</td>\n",
       "      <td>78</td>\n",
       "    </tr>\n",
       "    <tr>\n",
       "      <th>Zachary Sanchez</th>\n",
       "      <td>71</td>\n",
       "      <td>74</td>\n",
       "    </tr>\n",
       "    <tr>\n",
       "      <th>Zoe Allen</th>\n",
       "      <td>83</td>\n",
       "      <td>75</td>\n",
       "    </tr>\n",
       "  </tbody>\n",
       "</table>\n",
       "<p>38249 rows × 2 columns</p>\n",
       "</div>"
      ],
      "text/plain": [
       "                               Nota_Matematica  Nota_Redacao\n",
       "Nome_Escola Nome_Estudante                                  \n",
       "Escola A    Aaron Booker                    64            81\n",
       "            Aaron Foster                    89            82\n",
       "            Aaron Martinez                  72            85\n",
       "            Aaron Moore                     70            85\n",
       "            Aaron Rodriguez                 78            75\n",
       "...                                        ...           ...\n",
       "Escola O    Yvette Ashley                   74            74\n",
       "            Zachary Christian               74            94\n",
       "            Zachary Davis                   69            78\n",
       "            Zachary Sanchez                 71            74\n",
       "            Zoe Allen                       83            75\n",
       "\n",
       "[38249 rows x 2 columns]"
      ]
     },
     "execution_count": 127,
     "metadata": {},
     "output_type": "execute_result"
    }
   ],
   "source": [
    "# A menor nota de Matemática e Redação para cada estudante de cada escola\n",
    "df_estudantes.groupby(['Nome_Escola', 'Nome_Estudante'])[['Nota_Matematica', 'Nota_Redacao']].min()"
   ]
  },
  {
   "cell_type": "code",
   "execution_count": 137,
   "metadata": {},
   "outputs": [
    {
     "data": {
      "text/plain": [
       "Nome_Escola\n",
       "Escola A    63\n",
       "Escola B    63\n",
       "Escola C    69\n",
       "Escola D    63\n",
       "Escola E    69\n",
       "Escola F    69\n",
       "Escola G    69\n",
       "Escola H    63\n",
       "Escola I    69\n",
       "Escola J    69\n",
       "Escola K    69\n",
       "Escola L    63\n",
       "Escola M    63\n",
       "Escola N    63\n",
       "Escola O    69\n",
       "Name: Nota_Redacao, dtype: int64"
      ]
     },
     "execution_count": 137,
     "metadata": {},
     "output_type": "execute_result"
    }
   ],
   "source": [
    "# Nomes da escolas e a menor nota de redação\n",
    "df_estudantes.groupby('Nome_Escola')['Nota_Redacao'].min()"
   ]
  },
  {
   "cell_type": "code",
   "execution_count": 113,
   "metadata": {},
   "outputs": [
    {
     "data": {
      "text/plain": [
       "Nome_Escola\n",
       "Escola A    99\n",
       "Escola B    99\n",
       "Escola C    99\n",
       "Escola D    99\n",
       "Escola E    99\n",
       "Escola F    99\n",
       "Escola G    99\n",
       "Escola H    99\n",
       "Escola I    99\n",
       "Escola J    99\n",
       "Escola K    99\n",
       "Escola L    99\n",
       "Escola M    99\n",
       "Escola N    99\n",
       "Escola O    99\n",
       "Name: Nota_Redacao, dtype: int64"
      ]
     },
     "execution_count": 113,
     "metadata": {},
     "output_type": "execute_result"
    }
   ],
   "source": [
    "# Nomes da escolas e a maior nota de redação\n",
    "df_estudantes.groupby('Nome_Escola')['Nota_Redacao'].max()"
   ]
  },
  {
   "cell_type": "code",
   "execution_count": 112,
   "metadata": {},
   "outputs": [
    {
     "data": {
      "text/html": [
       "<div>\n",
       "<style scoped>\n",
       "    .dataframe tbody tr th:only-of-type {\n",
       "        vertical-align: middle;\n",
       "    }\n",
       "\n",
       "    .dataframe tbody tr th {\n",
       "        vertical-align: top;\n",
       "    }\n",
       "\n",
       "    .dataframe thead th {\n",
       "        text-align: right;\n",
       "    }\n",
       "</style>\n",
       "<table border=\"1\" class=\"dataframe\">\n",
       "  <thead>\n",
       "    <tr style=\"text-align: right;\">\n",
       "      <th></th>\n",
       "      <th>ID_Estudante</th>\n",
       "      <th>Nome_Estudante</th>\n",
       "      <th>Genero</th>\n",
       "      <th>Serie</th>\n",
       "      <th>Nome_Escola</th>\n",
       "      <th>Nota_Redacao</th>\n",
       "      <th>Nota_Matematica</th>\n",
       "    </tr>\n",
       "  </thead>\n",
       "  <tbody>\n",
       "    <tr>\n",
       "      <th>26814</th>\n",
       "      <td>26814</td>\n",
       "      <td>Julie Haas</td>\n",
       "      <td>F</td>\n",
       "      <td>9</td>\n",
       "      <td>Escola L</td>\n",
       "      <td>95</td>\n",
       "      <td>55</td>\n",
       "    </tr>\n",
       "    <tr>\n",
       "      <th>33071</th>\n",
       "      <td>33071</td>\n",
       "      <td>Lisa Jones</td>\n",
       "      <td>F</td>\n",
       "      <td>7</td>\n",
       "      <td>Escola M</td>\n",
       "      <td>89</td>\n",
       "      <td>55</td>\n",
       "    </tr>\n",
       "    <tr>\n",
       "      <th>742</th>\n",
       "      <td>742</td>\n",
       "      <td>Bradley Phillips</td>\n",
       "      <td>M</td>\n",
       "      <td>6</td>\n",
       "      <td>Escola A</td>\n",
       "      <td>70</td>\n",
       "      <td>55</td>\n",
       "    </tr>\n",
       "    <tr>\n",
       "      <th>5391</th>\n",
       "      <td>5391</td>\n",
       "      <td>Michael Thomas</td>\n",
       "      <td>M</td>\n",
       "      <td>9</td>\n",
       "      <td>Escola B</td>\n",
       "      <td>66</td>\n",
       "      <td>55</td>\n",
       "    </tr>\n",
       "    <tr>\n",
       "      <th>3773</th>\n",
       "      <td>3773</td>\n",
       "      <td>Glen Paul</td>\n",
       "      <td>M</td>\n",
       "      <td>6</td>\n",
       "      <td>Escola B</td>\n",
       "      <td>80</td>\n",
       "      <td>55</td>\n",
       "    </tr>\n",
       "    <tr>\n",
       "      <th>...</th>\n",
       "      <td>...</td>\n",
       "      <td>...</td>\n",
       "      <td>...</td>\n",
       "      <td>...</td>\n",
       "      <td>...</td>\n",
       "      <td>...</td>\n",
       "      <td>...</td>\n",
       "    </tr>\n",
       "    <tr>\n",
       "      <th>13595</th>\n",
       "      <td>13595</td>\n",
       "      <td>Emily Ingram</td>\n",
       "      <td>F</td>\n",
       "      <td>9</td>\n",
       "      <td>Escola E</td>\n",
       "      <td>86</td>\n",
       "      <td>99</td>\n",
       "    </tr>\n",
       "    <tr>\n",
       "      <th>34232</th>\n",
       "      <td>34232</td>\n",
       "      <td>Amanda Roach</td>\n",
       "      <td>F</td>\n",
       "      <td>6</td>\n",
       "      <td>Escola M</td>\n",
       "      <td>93</td>\n",
       "      <td>99</td>\n",
       "    </tr>\n",
       "    <tr>\n",
       "      <th>39125</th>\n",
       "      <td>39125</td>\n",
       "      <td>Maria Shields</td>\n",
       "      <td>F</td>\n",
       "      <td>9</td>\n",
       "      <td>Escola O</td>\n",
       "      <td>87</td>\n",
       "      <td>99</td>\n",
       "    </tr>\n",
       "    <tr>\n",
       "      <th>30</th>\n",
       "      <td>30</td>\n",
       "      <td>Bobby Harris</td>\n",
       "      <td>M</td>\n",
       "      <td>6</td>\n",
       "      <td>Escola A</td>\n",
       "      <td>94</td>\n",
       "      <td>99</td>\n",
       "    </tr>\n",
       "    <tr>\n",
       "      <th>34308</th>\n",
       "      <td>34308</td>\n",
       "      <td>Ms. Amy Watson</td>\n",
       "      <td>F</td>\n",
       "      <td>9</td>\n",
       "      <td>Escola M</td>\n",
       "      <td>73</td>\n",
       "      <td>99</td>\n",
       "    </tr>\n",
       "  </tbody>\n",
       "</table>\n",
       "<p>39160 rows × 7 columns</p>\n",
       "</div>"
      ],
      "text/plain": [
       "       ID_Estudante    Nome_Estudante Genero  Serie Nome_Escola  Nota_Redacao  \\\n",
       "26814         26814        Julie Haas      F      9    Escola L            95   \n",
       "33071         33071        Lisa Jones      F      7    Escola M            89   \n",
       "742             742  Bradley Phillips      M      6    Escola A            70   \n",
       "5391           5391    Michael Thomas      M      9    Escola B            66   \n",
       "3773           3773         Glen Paul      M      6    Escola B            80   \n",
       "...             ...               ...    ...    ...         ...           ...   \n",
       "13595         13595      Emily Ingram      F      9    Escola E            86   \n",
       "34232         34232      Amanda Roach      F      6    Escola M            93   \n",
       "39125         39125     Maria Shields      F      9    Escola O            87   \n",
       "30               30      Bobby Harris      M      6    Escola A            94   \n",
       "34308         34308    Ms. Amy Watson      F      9    Escola M            73   \n",
       "\n",
       "       Nota_Matematica  \n",
       "26814               55  \n",
       "33071               55  \n",
       "742                 55  \n",
       "5391                55  \n",
       "3773                55  \n",
       "...                ...  \n",
       "13595               99  \n",
       "34232               99  \n",
       "39125               99  \n",
       "30                  99  \n",
       "34308               99  \n",
       "\n",
       "[39160 rows x 7 columns]"
      ]
     },
     "execution_count": 112,
     "metadata": {},
     "output_type": "execute_result"
    }
   ],
   "source": [
    "# Menor nota de matemática\n",
    "df_estudantes.sort_values(by=['Nota_Matematica'], ascending=True)"
   ]
  },
  {
   "cell_type": "code",
   "execution_count": 99,
   "metadata": {},
   "outputs": [
    {
     "data": {
      "text/html": [
       "<div>\n",
       "<style scoped>\n",
       "    .dataframe tbody tr th:only-of-type {\n",
       "        vertical-align: middle;\n",
       "    }\n",
       "\n",
       "    .dataframe tbody tr th {\n",
       "        vertical-align: top;\n",
       "    }\n",
       "\n",
       "    .dataframe thead th {\n",
       "        text-align: right;\n",
       "    }\n",
       "</style>\n",
       "<table border=\"1\" class=\"dataframe\">\n",
       "  <thead>\n",
       "    <tr style=\"text-align: right;\">\n",
       "      <th></th>\n",
       "      <th>ID_Estudante</th>\n",
       "      <th>Nome_Estudante</th>\n",
       "      <th>Genero</th>\n",
       "      <th>Serie</th>\n",
       "      <th>Nome_Escola</th>\n",
       "      <th>Nota_Redacao</th>\n",
       "      <th>Nota_Matematica</th>\n",
       "    </tr>\n",
       "  </thead>\n",
       "  <tbody>\n",
       "    <tr>\n",
       "      <th>8719</th>\n",
       "      <td>8719</td>\n",
       "      <td>Sonya Knapp</td>\n",
       "      <td>F</td>\n",
       "      <td>7</td>\n",
       "      <td>Escola D</td>\n",
       "      <td>63</td>\n",
       "      <td>80</td>\n",
       "    </tr>\n",
       "    <tr>\n",
       "      <th>33164</th>\n",
       "      <td>33164</td>\n",
       "      <td>Meagan Browning MD</td>\n",
       "      <td>F</td>\n",
       "      <td>7</td>\n",
       "      <td>Escola M</td>\n",
       "      <td>63</td>\n",
       "      <td>84</td>\n",
       "    </tr>\n",
       "    <tr>\n",
       "      <th>37374</th>\n",
       "      <td>37374</td>\n",
       "      <td>Nicole Kidd</td>\n",
       "      <td>F</td>\n",
       "      <td>7</td>\n",
       "      <td>Escola N</td>\n",
       "      <td>63</td>\n",
       "      <td>55</td>\n",
       "    </tr>\n",
       "    <tr>\n",
       "      <th>8722</th>\n",
       "      <td>8722</td>\n",
       "      <td>Ashley Smith</td>\n",
       "      <td>F</td>\n",
       "      <td>6</td>\n",
       "      <td>Escola D</td>\n",
       "      <td>63</td>\n",
       "      <td>87</td>\n",
       "    </tr>\n",
       "    <tr>\n",
       "      <th>33414</th>\n",
       "      <td>33414</td>\n",
       "      <td>Michelle Brown</td>\n",
       "      <td>F</td>\n",
       "      <td>7</td>\n",
       "      <td>Escola M</td>\n",
       "      <td>63</td>\n",
       "      <td>72</td>\n",
       "    </tr>\n",
       "    <tr>\n",
       "      <th>...</th>\n",
       "      <td>...</td>\n",
       "      <td>...</td>\n",
       "      <td>...</td>\n",
       "      <td>...</td>\n",
       "      <td>...</td>\n",
       "      <td>...</td>\n",
       "      <td>...</td>\n",
       "    </tr>\n",
       "    <tr>\n",
       "      <th>15848</th>\n",
       "      <td>15848</td>\n",
       "      <td>Deborah Li</td>\n",
       "      <td>F</td>\n",
       "      <td>7</td>\n",
       "      <td>Escola F</td>\n",
       "      <td>99</td>\n",
       "      <td>96</td>\n",
       "    </tr>\n",
       "    <tr>\n",
       "      <th>15808</th>\n",
       "      <td>15808</td>\n",
       "      <td>Danielle Sanchez</td>\n",
       "      <td>F</td>\n",
       "      <td>7</td>\n",
       "      <td>Escola F</td>\n",
       "      <td>99</td>\n",
       "      <td>85</td>\n",
       "    </tr>\n",
       "    <tr>\n",
       "      <th>35886</th>\n",
       "      <td>35886</td>\n",
       "      <td>Billy Bailey</td>\n",
       "      <td>M</td>\n",
       "      <td>9</td>\n",
       "      <td>Escola N</td>\n",
       "      <td>99</td>\n",
       "      <td>82</td>\n",
       "    </tr>\n",
       "    <tr>\n",
       "      <th>22</th>\n",
       "      <td>22</td>\n",
       "      <td>Julian Stewart</td>\n",
       "      <td>F</td>\n",
       "      <td>8</td>\n",
       "      <td>Escola A</td>\n",
       "      <td>99</td>\n",
       "      <td>84</td>\n",
       "    </tr>\n",
       "    <tr>\n",
       "      <th>32535</th>\n",
       "      <td>32535</td>\n",
       "      <td>Timothy Haynes</td>\n",
       "      <td>M</td>\n",
       "      <td>6</td>\n",
       "      <td>Escola M</td>\n",
       "      <td>99</td>\n",
       "      <td>79</td>\n",
       "    </tr>\n",
       "  </tbody>\n",
       "</table>\n",
       "<p>39160 rows × 7 columns</p>\n",
       "</div>"
      ],
      "text/plain": [
       "       ID_Estudante      Nome_Estudante Genero  Serie Nome_Escola  \\\n",
       "8719           8719         Sonya Knapp      F      7    Escola D   \n",
       "33164         33164  Meagan Browning MD      F      7    Escola M   \n",
       "37374         37374         Nicole Kidd      F      7    Escola N   \n",
       "8722           8722        Ashley Smith      F      6    Escola D   \n",
       "33414         33414      Michelle Brown      F      7    Escola M   \n",
       "...             ...                 ...    ...    ...         ...   \n",
       "15848         15848          Deborah Li      F      7    Escola F   \n",
       "15808         15808    Danielle Sanchez      F      7    Escola F   \n",
       "35886         35886        Billy Bailey      M      9    Escola N   \n",
       "22               22      Julian Stewart      F      8    Escola A   \n",
       "32535         32535      Timothy Haynes      M      6    Escola M   \n",
       "\n",
       "       Nota_Redacao  Nota_Matematica  \n",
       "8719             63               80  \n",
       "33164            63               84  \n",
       "37374            63               55  \n",
       "8722             63               87  \n",
       "33414            63               72  \n",
       "...             ...              ...  \n",
       "15848            99               96  \n",
       "15808            99               85  \n",
       "35886            99               82  \n",
       "22               99               84  \n",
       "32535            99               79  \n",
       "\n",
       "[39160 rows x 7 columns]"
      ]
     },
     "execution_count": 99,
     "metadata": {},
     "output_type": "execute_result"
    }
   ],
   "source": [
    "# Menor nota de redação\n",
    "df_estudantes.sort_values(by=['Nota_Redacao'], ascending=True)"
   ]
  },
  {
   "cell_type": "code",
   "execution_count": 148,
   "metadata": {},
   "outputs": [
    {
     "name": "stderr",
     "output_type": "stream",
     "text": [
      "Matplotlib is building the font cache; this may take a moment.\n"
     ]
    }
   ],
   "source": [
    "import matplotlib.pyplot as plt"
   ]
  },
  {
   "cell_type": "code",
   "execution_count": 150,
   "metadata": {},
   "outputs": [
    {
     "data": {
      "text/plain": [
       "<Axes: xlabel='Nome_Escola'>"
      ]
     },
     "execution_count": 150,
     "metadata": {},
     "output_type": "execute_result"
    },
    {
     "data": {
      "image/png": "[encoded data removed]",
      "text/plain": [
       "<Figure size 640x480 with 1 Axes>"
      ]
     },
     "metadata": {},
     "output_type": "display_data"
    }
   ],
   "source": [
    "df_estudantes['Nome_Escola'].value_counts().plot(kind='bar')"
   ]
  },
  {
   "cell_type": "code",
   "execution_count": 188,
   "metadata": {},
   "outputs": [
    {
     "name": "stdout",
     "output_type": "stream",
     "text": [
      "      Nome_Estudante  Nota_Redacao\n",
      "22    Julian Stewart            99\n",
      "90     Ronald Garcia            99\n",
      "1001   Theresa Young            99\n",
      "469      Joel Harper            99\n",
      "2092   Michael Smith            99\n"
     ]
    }
   ],
   "source": [
    "# Cinco primeiras notas de redação mais altas da escola A\n",
    "df_filtro = df_estudantes[df_estudantes['Nome_Escola'] == 'Escola A']\n",
    "df_filtro_sorted = df_filtro.sort_values(by='Nota_Redacao', ascending=False)\n",
    "resultado = df_filtro_sorted[['Nome_Estudante', 'Nota_Redacao']].head(5)\n",
    "print(resultado)"
   ]
  }
 ],
 "metadata": {
  "kernelspec": {
   "display_name": ".venv",
   "language": "python",
   "name": "python3"
  },
  "language_info": {
   "codemirror_mode": {
    "name": "ipython",
    "version": 3
   },
   "file_extension": ".py",
   "mimetype": "text/x-python",
   "name": "python",
   "nbconvert_exporter": "python",
   "pygments_lexer": "ipython3",
   "version": "3.11.2"
  }
 },
 "nbformat": 4,
 "nbformat_minor": 2
}
